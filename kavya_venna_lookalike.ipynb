{
 "cells": [
  {
   "cell_type": "markdown",
   "id": "ad5d1415-0f5f-4422-998d-b0d6e59f168b",
   "metadata": {},
   "source": [
    "## Build a LOOKALIKE MODEL for customer recommendations based on both customer profile and transaction history, we can approach it using a Collaborative Filtering or Content-Based Filtering approach with Similarity Measurement."
   ]
  },
  {
   "cell_type": "code",
   "execution_count": 17,
   "id": "ed16f524-b384-4e6c-b1bf-39c5dfec9695",
   "metadata": {},
   "outputs": [],
   "source": [
    "# import necessary libraries\n",
    "import pandas as pd\n",
    "import numpy as np"
   ]
  },
  {
   "cell_type": "markdown",
   "id": "2333cb6b-acfb-4eb5-99c6-5959e10f7a89",
   "metadata": {},
   "source": [
    "# import datasets\n",
    "customers = pd.read_csv('customers.csv')  \n",
    "products = pd.read_csv('products.csv')\n",
    "transactions = pd.read_csv('transactions.csv')"
   ]
  },
  {
   "cell_type": "code",
   "execution_count": 18,
   "id": "85059c5d-9a10-48f8-b7fe-023a6e9ffcf4",
   "metadata": {},
   "outputs": [],
   "source": [
    "\n",
    "# Convert dates to datetime\n",
    "customers['SignupDate'] = pd.to_datetime(customers['SignupDate'])\n",
    "transactions['TransactionDate'] = pd.to_datetime(transactions['TransactionDate'])"
   ]
  },
  {
   "cell_type": "markdown",
   "id": "fc03553e-ffd1-45f0-b3b9-59c72a47205c",
   "metadata": {},
   "source": [
    "### Content-based filtering is a recommendation system that suggests items to users based on their preferences and previous actions. It uses machine learning algorithms to analyze user profiles and item features to make recommendations. \n"
   ]
  },
  {
   "cell_type": "markdown",
   "id": "699933e4-bd67-4c86-a6be-0d8d8bcedaa1",
   "metadata": {},
   "source": [
    "### Step 1: Data Cleaning and Preprocessing"
   ]
  },
  {
   "cell_type": "code",
   "execution_count": 19,
   "id": "68f18911-8bf4-4805-a2dc-765bbb749e82",
   "metadata": {},
   "outputs": [
    {
     "name": "stdout",
     "output_type": "stream",
     "text": [
      "Customers dataset null values\n",
      " CustomerID              0\n",
      "CustomerName            0\n",
      "Region                  0\n",
      "SignupDate              0\n",
      "Region_Asia             0\n",
      "Region_Europe           0\n",
      "Region_North America    0\n",
      "Region_South America    0\n",
      "dtype: int64\n",
      "Products dataset null values\n",
      " ProductID      0\n",
      "ProductName    0\n",
      "Category       0\n",
      "Price          0\n",
      "dtype: int64\n",
      "Transactions dataset null values\n",
      " TransactionID      0\n",
      "CustomerID         0\n",
      "ProductID          0\n",
      "TransactionDate    0\n",
      "Quantity           0\n",
      "TotalValue         0\n",
      "Price              0\n",
      "dtype: int64\n"
     ]
    }
   ],
   "source": [
    "print(\"Customers dataset null values\\n\",customers.isnull().sum()) \n",
    "print(\"Products dataset null values\\n\",products.isnull().sum()) \n",
    "print(\"Transactions dataset null values\\n\",transactions.isnull().sum()) "
   ]
  },
  {
   "cell_type": "code",
   "execution_count": 20,
   "id": "7516681d-45ef-47ba-b0ce-44dad7704c60",
   "metadata": {},
   "outputs": [],
   "source": [
    "# Merge all datasets into a single dataframe\n",
    "merged_data = transactions.merge(customers, on='CustomerID').merge(products, on='ProductID')\n",
    "\n"
   ]
  },
  {
   "cell_type": "code",
   "execution_count": 21,
   "id": "b895cf34-4e36-4e15-9cbf-ff2e8f9f2cf9",
   "metadata": {},
   "outputs": [
    {
     "name": "stdout",
     "output_type": "stream",
     "text": [
      "    TransactionID CustomerID ProductID     TransactionDate  Quantity  \\\n",
      "0          T00001      C0199      P067 2024-08-25 12:38:23         1   \n",
      "1          T00112      C0146      P067 2024-05-27 22:23:54         1   \n",
      "2          T00166      C0127      P067 2024-04-25 07:38:55         1   \n",
      "3          T00272      C0087      P067 2024-03-26 22:55:37         2   \n",
      "4          T00363      C0070      P067 2024-03-21 15:10:10         3   \n",
      "..            ...        ...       ...                 ...       ...   \n",
      "995        T00496      C0118      P037 2024-10-24 08:30:27         1   \n",
      "996        T00759      C0059      P037 2024-06-04 02:15:24         3   \n",
      "997        T00922      C0018      P037 2024-04-05 13:05:32         4   \n",
      "998        T00959      C0115      P037 2024-09-29 10:16:02         2   \n",
      "999        T00992      C0024      P037 2024-04-21 10:52:24         1   \n",
      "\n",
      "     TotalValue  Price_x          CustomerName         Region SignupDate  \\\n",
      "0        300.68   300.68        Andrea Jenkins         Europe 2022-12-03   \n",
      "1        300.68   300.68       Brittany Harvey           Asia 2024-09-04   \n",
      "2        300.68   300.68       Kathryn Stevens         Europe 2024-04-04   \n",
      "3        601.36   300.68       Travis Campbell  South America 2024-04-11   \n",
      "4        902.04   300.68         Timothy Perez         Europe 2022-03-15   \n",
      "..          ...      ...                   ...            ...        ...   \n",
      "995      459.86   459.86            Jacob Holt  South America 2022-01-22   \n",
      "996     1379.58   459.86  Mrs. Kimberly Wright  North America 2024-04-07   \n",
      "997     1839.44   459.86          Tyler Haynes  North America 2024-09-21   \n",
      "998      919.72   459.86       Joshua Hamilton           Asia 2024-11-11   \n",
      "999      459.86   459.86        Michele Cooley  North America 2024-02-05   \n",
      "\n",
      "     Region_Asia  Region_Europe  Region_North America  Region_South America  \\\n",
      "0            0.0            1.0                   0.0                   0.0   \n",
      "1            1.0            0.0                   0.0                   0.0   \n",
      "2            0.0            1.0                   0.0                   0.0   \n",
      "3            0.0            0.0                   0.0                   1.0   \n",
      "4            0.0            1.0                   0.0                   0.0   \n",
      "..           ...            ...                   ...                   ...   \n",
      "995          0.0            0.0                   0.0                   1.0   \n",
      "996          0.0            0.0                   1.0                   0.0   \n",
      "997          0.0            0.0                   1.0                   0.0   \n",
      "998          1.0            0.0                   0.0                   0.0   \n",
      "999          0.0            0.0                   1.0                   0.0   \n",
      "\n",
      "                         ProductName     Category  Price_y  \n",
      "0    ComfortLiving Bluetooth Speaker  Electronics   300.68  \n",
      "1    ComfortLiving Bluetooth Speaker  Electronics   300.68  \n",
      "2    ComfortLiving Bluetooth Speaker  Electronics   300.68  \n",
      "3    ComfortLiving Bluetooth Speaker  Electronics   300.68  \n",
      "4    ComfortLiving Bluetooth Speaker  Electronics   300.68  \n",
      "..                               ...          ...      ...  \n",
      "995             SoundWave Smartwatch  Electronics   459.86  \n",
      "996             SoundWave Smartwatch  Electronics   459.86  \n",
      "997             SoundWave Smartwatch  Electronics   459.86  \n",
      "998             SoundWave Smartwatch  Electronics   459.86  \n",
      "999             SoundWave Smartwatch  Electronics   459.86  \n",
      "\n",
      "[1000 rows x 17 columns]\n"
     ]
    }
   ],
   "source": [
    "print(merged_data)"
   ]
  },
  {
   "cell_type": "markdown",
   "id": "3eaafe4c-e840-4681-a1c9-2f020d6731b6",
   "metadata": {},
   "source": [
    "### Step 2: Feature Engineering"
   ]
  },
  {
   "cell_type": "code",
   "execution_count": 22,
   "id": "e86a4951-fd81-4991-b8b6-8d9ed1b4602c",
   "metadata": {},
   "outputs": [],
   "source": [
    "from sklearn.preprocessing import OneHotEncoder\n",
    "\n",
    "# Create an encoder with sparse_output=False to get a dense array\n",
    "encoder = OneHotEncoder(sparse_output=False)\n",
    "\n",
    "# Apply the encoding on the 'Region' column\n",
    "region_encoded = encoder.fit_transform(customers[['Region']])\n",
    "\n",
    "# Convert the encoded data into a DataFrame\n",
    "region_df = pd.DataFrame(region_encoded, columns=encoder.get_feature_names_out(['Region']))\n",
    "\n",
    "# Concatenate this encoded data back with the original customers DataFrame\n",
    "customers = pd.concat([customers, region_df], axis=1)\n"
   ]
  },
  {
   "cell_type": "markdown",
   "id": "7ec15300-f147-4c34-80bb-1992c5b7ec19",
   "metadata": {},
   "source": [
    "### Step 3: Transaction History Vector"
   ]
  },
  {
   "cell_type": "code",
   "execution_count": 23,
   "id": "08dffde3-12d2-4430-8184-70c1db2fe47d",
   "metadata": {},
   "outputs": [],
   "source": [
    "# Aggregate transaction data by customer and product category\n",
    "customer_transactions = merged_data.groupby(['CustomerID', 'Category'])['Quantity'].sum().unstack().fillna(0)\n"
   ]
  },
  {
   "cell_type": "markdown",
   "id": "bdfa730b-0c71-4c3d-aeab-40393bb6aa61",
   "metadata": {},
   "source": [
    "### Step 4: Similarity Calculation using Cosine Similarity"
   ]
  },
  {
   "cell_type": "code",
   "execution_count": 24,
   "id": "dff3bbf2-d6af-42f7-867d-004c374c1cb5",
   "metadata": {},
   "outputs": [],
   "source": [
    "# Calculate cosine similarity between customers' transaction histories\n",
    "from sklearn.metrics.pairwise import cosine_similarity\n",
    "similarity_scores = cosine_similarity(customer_transactions)"
   ]
  },
  {
   "cell_type": "markdown",
   "id": "b3ec10ff-f684-4d40-8bc1-2d5d7601c580",
   "metadata": {},
   "source": [
    "### Step 5: Lookalike Model Development"
   ]
  },
  {
   "cell_type": "code",
   "execution_count": 25,
   "id": "b774ad40-e107-4b3f-ba06-73f2965e5bd3",
   "metadata": {},
   "outputs": [],
   "source": [
    "lookalike_map = {}\n",
    "\n",
    "# For the first 20 customers (C0001 - C0020)\n",
    "for customer_id in customers['CustomerID'][:20]:\n",
    "    customer_idx = customers[customers['CustomerID'] == customer_id].index[0]\n",
    "    similarity_with_others = similarity_scores[customer_idx]\n",
    "    \n",
    "    # Get top 3 similar customers\n",
    "    top_similarities = np.argsort(similarity_with_others)[::-1][1:4]  # Skip the first one (self)\n",
    "    top_similar_customers = customers.iloc[top_similarities]\n",
    "    \n",
    "    # Collect lookalike customer IDs and their similarity scores\n",
    "    lookalike_map[customer_id] = [(top_similar_customers.iloc[i]['CustomerID'], similarity_with_others[top_similarities[i]]) for i in range(3)]\n"
   ]
  },
  {
   "cell_type": "markdown",
   "id": "da87f26c-cb87-4e3a-b08c-a1312756aff3",
   "metadata": {},
   "source": [
    "### Step 6: Prepare the Lookalike.csv file"
   ]
  },
  {
   "cell_type": "code",
   "execution_count": 26,
   "id": "62be4c98-cb04-438e-a048-50b566986a78",
   "metadata": {},
   "outputs": [],
   "source": [
    "lookalike_data = []\n",
    "\n",
    "# For each customer, map top 3 lookalikes with their similarity scores\n",
    "for customer_id, lookalikes in lookalike_map.items():\n",
    "    lookalike_row = {'CustomerID': customer_id}\n",
    "    for i, (lookalike_id, score) in enumerate(lookalikes):\n",
    "        lookalike_row[f'Lookalike_{i+1}'] = lookalike_id\n",
    "        lookalike_row[f'Score_{i+1}'] = round(score, 4)\n",
    "    lookalike_data.append(lookalike_row)"
   ]
  },
  {
   "cell_type": "code",
   "execution_count": 27,
   "id": "eb98a25c-e5e5-4989-8690-06f81e2a92af",
   "metadata": {},
   "outputs": [
    {
     "name": "stdout",
     "output_type": "stream",
     "text": [
      "  CustomerID Lookalike_1  Score_1 Lookalike_2  Score_2 Lookalike_3  Score_3\n",
      "0      C0001       C0157   0.9924       C0051   0.9773       C0196   0.9655\n",
      "1      C0002       C0159   0.9989       C0133   0.9943       C0178   0.9845\n",
      "2      C0003       C0170   0.9927       C0100   0.9857       C0194   0.9725\n",
      "3      C0004       C0146   0.9984       C0119   0.9870       C0047   0.9707\n",
      "4      C0005       C0007   0.9899       C0196   0.9839       C0127   0.9802\n"
     ]
    }
   ],
   "source": [
    "# Convert to DataFrame and save to CSV\n",
    "lookalike_df = pd.DataFrame(lookalike_data)\n",
    "lookalike_df.to_csv('Lookalike.csv', index=False)\n",
    "\n",
    "# Print the result for inspection\n",
    "print(lookalike_df.head())"
   ]
  },
  {
   "cell_type": "markdown",
   "id": "3865b5ae-fd66-446d-b178-eb825b7f3d96",
   "metadata": {},
   "source": [
    "### very high similarity scores, mostly in the range of 0.98 to 1.00\n"
   ]
  },
  {
   "cell_type": "code",
   "execution_count": 29,
   "id": "0ae311e8-1f00-4485-83f1-cee011cd4da3",
   "metadata": {},
   "outputs": [
    {
     "name": "stdout",
     "output_type": "stream",
     "text": [
      "   CustomerID Lookalike_1  Score_1 Lookalike_2  Score_2 Lookalike_3  Score_3\n",
      "0       C0001       C0157   0.9924       C0051   0.9773       C0196   0.9655\n",
      "1       C0002       C0159   0.9989       C0133   0.9943       C0178   0.9845\n",
      "2       C0003       C0170   0.9927       C0100   0.9857       C0194   0.9725\n",
      "3       C0004       C0146   0.9984       C0119   0.9870       C0047   0.9707\n",
      "4       C0005       C0007   0.9899       C0196   0.9839       C0127   0.9802\n",
      "5       C0006       C0135   0.9899       C0024   0.9878       C0082   0.9799\n",
      "6       C0007       C0127   0.9901       C0005   0.9899       C0163   0.9878\n",
      "7       C0008       C0149   0.9848       C0031   0.9800       C0129   0.9760\n",
      "8       C0009       C0009   1.0000       C0092   0.9983       C0040   0.9762\n",
      "9       C0010       C0010   1.0000       C0077   0.9995       C0033   0.9806\n",
      "10      C0011       C0027   0.9924       C0016   0.9816       C0074   0.9793\n",
      "11      C0012       C0065   0.9889       C0116   0.9792       C0179   0.9733\n",
      "12      C0013       C0156   0.9906       C0029   0.9904       C0111   0.9787\n",
      "13      C0014       C0110   1.0000       C0060   1.0000       C0014   1.0000\n",
      "14      C0015       C0123   1.0000       C0052   0.9965       C0136   0.9899\n",
      "15      C0016       C0099   0.9861       C0011   0.9816       C0074   0.9806\n",
      "16      C0017       C0064   0.9957       C0047   0.9850       C0075   0.9822\n",
      "17      C0018       C0051   0.9639       C0035   0.9627       C0064   0.9621\n",
      "18      C0019       C0185   0.9923       C0070   0.9806       C0115   0.9648\n",
      "19      C0020       C0120   1.0000       C0130   1.0000       C0069   0.9939\n"
     ]
    }
   ],
   "source": [
    "print(lookalike_df)"
   ]
  },
  {
   "cell_type": "markdown",
   "id": "f53cc270-2894-4c85-94b5-e33f4b2266cf",
   "metadata": {},
   "source": [
    "### The Lookalike Model is effective in recommending customers who are similar in their purchasing behavior and profile. These recommendations could be used for targeted marketing, personalized offers, or inventory management ,by understanding similar customers’ preferences).\n",
    "The Similarity Score allows businesses to prioritize which lookalikes might be the most relevant for specific purposes (e.g., marketing campaign targeting, product recommendations)."
   ]
  },
  {
   "cell_type": "code",
   "execution_count": null,
   "id": "bc4918b6-883d-47b1-9254-9495466ddaa9",
   "metadata": {},
   "outputs": [],
   "source": []
  }
 ],
 "metadata": {
  "kernelspec": {
   "display_name": "Python 3 (ipykernel)",
   "language": "python",
   "name": "python3"
  },
  "language_info": {
   "codemirror_mode": {
    "name": "ipython",
    "version": 3
   },
   "file_extension": ".py",
   "mimetype": "text/x-python",
   "name": "python",
   "nbconvert_exporter": "python",
   "pygments_lexer": "ipython3",
   "version": "3.12.4"
  }
 },
 "nbformat": 4,
 "nbformat_minor": 5
}
